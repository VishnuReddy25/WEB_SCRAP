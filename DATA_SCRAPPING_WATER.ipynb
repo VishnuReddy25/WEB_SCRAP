{
  "nbformat": 4,
  "nbformat_minor": 0,
  "metadata": {
    "colab": {
      "provenance": [],
      "authorship_tag": "ABX9TyPdyNE/ESDdTEtV1yupFKp6",
      "include_colab_link": true
    },
    "kernelspec": {
      "name": "python3",
      "display_name": "Python 3"
    },
    "language_info": {
      "name": "python"
    }
  },
  "cells": [
    {
      "cell_type": "markdown",
      "metadata": {
        "id": "view-in-github",
        "colab_type": "text"
      },
      "source": [
        "<a href=\"https://colab.research.google.com/github/VishnuReddy25/WEB_SCRAP/blob/main/DATA_SCRAPPING_WATER.ipynb\" target=\"_parent\"><img src=\"https://colab.research.google.com/assets/colab-badge.svg\" alt=\"Open In Colab\"/></a>"
      ]
    },
    {
      "cell_type": "code",
      "source": [
        "!pip install requests_html"
      ],
      "metadata": {
        "colab": {
          "base_uri": "https://localhost:8080/"
        },
        "id": "JebQgzbhG-Fs",
        "outputId": "87f6ee31-42f0-4526-bc20-b65cc1f1de68"
      },
      "execution_count": null,
      "outputs": [
        {
          "output_type": "stream",
          "name": "stdout",
          "text": [
            "Requirement already satisfied: requests_html in /usr/local/lib/python3.10/dist-packages (0.10.0)\n",
            "Requirement already satisfied: requests in /usr/local/lib/python3.10/dist-packages (from requests_html) (2.31.0)\n",
            "Requirement already satisfied: pyquery in /usr/local/lib/python3.10/dist-packages (from requests_html) (2.0.0)\n",
            "Requirement already satisfied: fake-useragent in /usr/local/lib/python3.10/dist-packages (from requests_html) (1.5.1)\n",
            "Requirement already satisfied: parse in /usr/local/lib/python3.10/dist-packages (from requests_html) (1.20.2)\n",
            "Requirement already satisfied: bs4 in /usr/local/lib/python3.10/dist-packages (from requests_html) (0.0.2)\n",
            "Requirement already satisfied: w3lib in /usr/local/lib/python3.10/dist-packages (from requests_html) (2.2.1)\n",
            "Requirement already satisfied: pyppeteer>=0.0.14 in /usr/local/lib/python3.10/dist-packages (from requests_html) (2.0.0)\n",
            "Requirement already satisfied: appdirs<2.0.0,>=1.4.3 in /usr/local/lib/python3.10/dist-packages (from pyppeteer>=0.0.14->requests_html) (1.4.4)\n",
            "Requirement already satisfied: certifi>=2023 in /usr/local/lib/python3.10/dist-packages (from pyppeteer>=0.0.14->requests_html) (2024.6.2)\n",
            "Requirement already satisfied: importlib-metadata>=1.4 in /usr/local/lib/python3.10/dist-packages (from pyppeteer>=0.0.14->requests_html) (7.1.0)\n",
            "Requirement already satisfied: pyee<12.0.0,>=11.0.0 in /usr/local/lib/python3.10/dist-packages (from pyppeteer>=0.0.14->requests_html) (11.1.0)\n",
            "Requirement already satisfied: tqdm<5.0.0,>=4.42.1 in /usr/local/lib/python3.10/dist-packages (from pyppeteer>=0.0.14->requests_html) (4.66.4)\n",
            "Requirement already satisfied: urllib3<2.0.0,>=1.25.8 in /usr/local/lib/python3.10/dist-packages (from pyppeteer>=0.0.14->requests_html) (1.26.19)\n",
            "Requirement already satisfied: websockets<11.0,>=10.0 in /usr/local/lib/python3.10/dist-packages (from pyppeteer>=0.0.14->requests_html) (10.4)\n",
            "Requirement already satisfied: beautifulsoup4 in /usr/local/lib/python3.10/dist-packages (from bs4->requests_html) (4.12.3)\n",
            "Requirement already satisfied: lxml>=2.1 in /usr/local/lib/python3.10/dist-packages (from pyquery->requests_html) (4.9.4)\n",
            "Requirement already satisfied: cssselect>=1.2.0 in /usr/local/lib/python3.10/dist-packages (from pyquery->requests_html) (1.2.0)\n",
            "Requirement already satisfied: charset-normalizer<4,>=2 in /usr/local/lib/python3.10/dist-packages (from requests->requests_html) (3.3.2)\n",
            "Requirement already satisfied: idna<4,>=2.5 in /usr/local/lib/python3.10/dist-packages (from requests->requests_html) (3.7)\n",
            "Requirement already satisfied: zipp>=0.5 in /usr/local/lib/python3.10/dist-packages (from importlib-metadata>=1.4->pyppeteer>=0.0.14->requests_html) (3.19.2)\n",
            "Requirement already satisfied: typing-extensions in /usr/local/lib/python3.10/dist-packages (from pyee<12.0.0,>=11.0.0->pyppeteer>=0.0.14->requests_html) (4.12.2)\n",
            "Requirement already satisfied: soupsieve>1.2 in /usr/local/lib/python3.10/dist-packages (from beautifulsoup4->bs4->requests_html) (2.5)\n"
          ]
        }
      ]
    },
    {
      "cell_type": "code",
      "source": [
        "from requests_html import AsyncHTMLSession\n",
        "import nest_asyncio\n",
        "import asyncio\n",
        "import pandas as pd\n",
        "from tabulate import tabulate # import tabulate\n",
        "\n",
        "async def fetch_data(url):\n",
        "    session = AsyncHTMLSession()\n",
        "    response = await session.get(url)\n",
        "    await response.html.arender(timeout=20, sleep=5)\n",
        "    csr_details_table = response.html.find('#csrDetailsTable')\n",
        "    csr_details_table_body = response.html.find('#csrDetailsTableBody')\n",
        "    await session.close()\n",
        "    return csr_details_table, csr_details_table_body\n",
        "\n",
        "async def main():\n",
        "    url = \"https://www.mca.gov.in/content/csr/global/master/home/home/csr-expenditure--geographical-distribution/state/district/company.html?=Tech%20Mahindra%20Limited=L64200MH1986PLC041370=FY%202021-22\"\n",
        "\n",
        "    # Fetch the data asynchronously\n",
        "    csr_details_table, csr_details_table_body = await fetch_data(url)\n",
        "    # print(csr_details_table)\n",
        "    # print(csr_details_table_body)\n",
        "    if csr_details_table_body:\n",
        "        # Iterate through rows and cells\n",
        "        table_data = []\n",
        "\n",
        "        # Iterate through rows and cells\n",
        "        for row in csr_details_table_body[0].find('tr'):\n",
        "            cells = row.find('td')\n",
        "            if cells:  # Ensure there are cells in the row\n",
        "                row_data = []\n",
        "                for cell in cells:\n",
        "                    # Append each cell's text to row_data\n",
        "                    row_data.append(cell.text.strip())\n",
        "                # Append row_data to table_data\n",
        "                table_data.append(row_data)\n",
        "\n",
        "        # Convert table_data into a DataFrame\n",
        "        df = pd.DataFrame(table_data)\n",
        "\n",
        "        # Display the DataFrame (optional)\n",
        "        #print(df)\n",
        "        # df = pd.concat(df) # Remove this line, as df is already a DataFrame\n",
        "        print(tabulate(df)) # Print the DataFrame using tabulate\n",
        "        df.to_csv(\"your_table.csv\", index=False)\n",
        "\n",
        "    else:\n",
        "        print(\"Element not found.\")\n",
        "\n",
        "# Allow nested asyncio event loops (needed for Jupyter and some interactive shells)\n",
        "nest_asyncio.apply()\n",
        "\n",
        "# Run the asynchronous main function\n",
        "if __name__ == \"__main__\":\n",
        "    asyncio.run(main())"
      ],
      "metadata": {
        "colab": {
          "base_uri": "https://localhost:8080/"
        },
        "id": "erH6KjarIU_v",
        "outputId": "73db6edb-6e1d-4e98-9acf-8c981fbcfa81"
      },
      "execution_count": null,
      "outputs": [
        {
          "output_type": "stream",
          "name": "stdout",
          "text": [
            "-  --  -------------------------------  -----------------  -----------  ------------------  -  ------  ---------------------------\n",
            "0  1.  Covid 19 Relief                  Health Care        Maharashtra  Pune                0    0.22  Other implementing agencies\n",
            "1  2.  Arise, Arise+, Shikshantarar     Education          Pan India    Nec/ Not Mentioned  0   12.43  Other implementing agencies\n",
            "2  3.  Smart, Smart+, Smart T, Smart A  Vocational Skills  Pan India    Nec/ Not Mentioned  0   33.86  Other implementing agencies\n",
            "3  4.  Technical Education              Education          Telangana    Hyderabad           0   62.1   Other implementing agencies\n",
            "4      Grand Total (INR Cr.)                                                                0  108.61\n",
            "-  --  -------------------------------  -----------------  -----------  ------------------  -  ------  ---------------------------\n"
          ]
        }
      ]
    },
    {
      "cell_type": "code",
      "source": [
        "import urllib.parse\n",
        "\n",
        "# URL-encoded string\n",
        "encoded_url = \"https://www.mca.gov.in/content/csr/global/master/home/home/csr-expenditure--geographical-distribution/state/district/company.html?=Tech%20Mahindra%20Limited=L64200MH1986PLC041370=FY%202021-22\"\n",
        "\n",
        "# Decode the URL\n",
        "decoded_url = urllib.parse.unquote(encoded_url)\n",
        "\n",
        "print(\"Encoded URL:\", encoded_url)\n",
        "print(\"Decoded URL:\", decoded_url)\n"
      ],
      "metadata": {
        "colab": {
          "base_uri": "https://localhost:8080/"
        },
        "id": "pcVRKz9PMZC4",
        "outputId": "a7671717-4ad3-48c6-ee55-920b09776f36"
      },
      "execution_count": null,
      "outputs": [
        {
          "output_type": "stream",
          "name": "stdout",
          "text": [
            "Encoded URL: https://www.mca.gov.in/content/csr/global/master/home/home/csr-expenditure--geographical-distribution/state/district/company.html?=Tech%20Mahindra%20Limited=L64200MH1986PLC041370=FY%202021-22\n",
            "Decoded URL: https://www.mca.gov.in/content/csr/global/master/home/home/csr-expenditure--geographical-distribution/state/district/company.html?=Tech Mahindra Limited=L64200MH1986PLC041370=FY 2021-22\n"
          ]
        }
      ]
    },
    {
      "cell_type": "code",
      "source": [],
      "metadata": {
        "id": "QaeSP2ubOJPQ"
      },
      "execution_count": null,
      "outputs": []
    },
    {
      "cell_type": "code",
      "source": [
        "import urllib.parse\n",
        "\n",
        "# URL-encoded string\n",
        "encoded_url = \"https://www.csr.gov.in/content/csr/global/master/home/home/csr-expenditure--geographical-distribution/state/district/company.html?=J.%20P.%20Morgan%20Services%20India%20Private%20Limited=U72900MH2000PTC124073=FY%202021-22\"\n",
        "\n",
        "# Decode the URL\n",
        "decoded_url = urllib.parse.unquote(encoded_url)\n",
        "\n",
        "print(\"Encoded URL:\", encoded_url)\n",
        "print(\"Decoded URL:\", decoded_url)\n"
      ],
      "metadata": {
        "colab": {
          "base_uri": "https://localhost:8080/"
        },
        "id": "mlM7jXATOLG8",
        "outputId": "72bea12d-4cd4-42cc-8a73-b388fa78c60d"
      },
      "execution_count": null,
      "outputs": [
        {
          "output_type": "stream",
          "name": "stdout",
          "text": [
            "Encoded URL: https://www.csr.gov.in/content/csr/global/master/home/home/csr-expenditure--geographical-distribution/state/district/company.html?=J.%20P.%20Morgan%20Services%20India%20Private%20Limited=U72900MH2000PTC124073=FY%202021-22\n",
            "Decoded URL: https://www.csr.gov.in/content/csr/global/master/home/home/csr-expenditure--geographical-distribution/state/district/company.html?=J. P. Morgan Services India Private Limited=U72900MH2000PTC124073=FY 2021-22\n"
          ]
        }
      ]
    },
    {
      "cell_type": "code",
      "source": [
        "from requests_html import AsyncHTMLSession\n",
        "import nest_asyncio\n",
        "import asyncio\n",
        "import pandas as pd\n",
        "from tabulate import tabulate # import tabulate\n",
        "\n",
        "async def fetch_data(url):\n",
        "    session = AsyncHTMLSession()\n",
        "    response = await session.get(url)\n",
        "    await response.html.arender(timeout=20, sleep=5)\n",
        "    csr_details_table = response.html.find('#csrDetailsTable')\n",
        "    csr_details_table_body = response.html.find('#csrDetailsTableBody')\n",
        "    await session.close()\n",
        "    return csr_details_table, csr_details_table_body\n",
        "\n",
        "async def main():\n",
        "    url = \"https://www.mca.gov.in/content/csr/global/master/home/home/csr-expenditure--geographical-distribution/state/district/company.html?=Aurobindo%20Pharma%20Ltd=L24239TG1986PLC015190=FY%202021-22\"\n",
        "\n",
        "    # Fetch the data asynchronously\n",
        "    csr_details_table, csr_details_table_body = await fetch_data(url)\n",
        "    # print(csr_details_table)\n",
        "    # print(csr_details_table_body)\n",
        "    if csr_details_table_body:\n",
        "        # Iterate through rows and cells\n",
        "        table_data = []\n",
        "\n",
        "        # Iterate through rows and cells\n",
        "        for row in csr_details_table_body[0].find('tr'):\n",
        "            cells = row.find('td')\n",
        "            if cells:  # Ensure there are cells in the row\n",
        "                row_data = []\n",
        "                for cell in cells:\n",
        "                    # Append each cell's text to row_data\n",
        "                    row_data.append(cell.text.strip())\n",
        "                # Append row_data to table_data\n",
        "                table_data.append(row_data)\n",
        "\n",
        "        # Convert table_data into a DataFrame\n",
        "        df = pd.DataFrame(table_data)\n",
        "\n",
        "        # Display the DataFrame (optional)\n",
        "        #print(df)\n",
        "        # df = pd.concat(df) # Remove this line, as df is already a DataFrame\n",
        "        print(tabulate(df)) # Print the DataFrame using tabulate\n",
        "        df.to_csv(\"your_table_aurobindo.csv\", index=False)\n",
        "\n",
        "    else:\n",
        "        print(\"Element not found.\")\n",
        "\n",
        "# Allow nested asyncio event loops (needed for Jupyter and some interactive shells)\n",
        "nest_asyncio.apply()\n",
        "\n",
        "# Run the asynchronous main function\n",
        "if __name__ == \"__main__\":\n",
        "    asyncio.run(main())"
      ],
      "metadata": {
        "id": "W-7v9kG1P-xK",
        "colab": {
          "base_uri": "https://localhost:8080/"
        },
        "outputId": "caa6d7d5-4e2a-4fbc-fde8-c0ab79c2ac7f"
      },
      "execution_count": null,
      "outputs": [
        {
          "output_type": "stream",
          "name": "stdout",
          "text": [
            "--  ---  ----------------------------------------------------------------------------------------------------  ----------------------------  --------------  ------------------  -  -----  ---------------------------\n",
            " 0  1.   To Provide And Promote Quality Education For Underprivileged Students, Provided Salaries For 14 Vidy  Education                     Andhra Pradesh  Chittoor            0   0.44  Directly by company\n",
            " 1  2.   To Support With Fund For Sri Kalyana Venkateswara Vedapatasala Trust At Tirupathi                     Education                     Andhra Pradesh  Chittoor            0   0     Directly by company\n",
            " 2  3.   To Support Villages Around New Aurobindo Facility In Kakinada Sez Of Andhra Pradesh State Through Va  Rural Development Projects    Andhra Pradesh  East Godavari       0   0.64  Directly by company\n",
            " 3  4.   To Improve The Healthcare Facilities Available, Provided High Grade Ophthalmic Equipment To Pushpagi  Health Care                   Andhra Pradesh  Kadapa              0   3.64  Other implementing agencies\n",
            " 4  5.   To Improve And Protect The Environment And Promote Animal Welfare, Planted And Supported Maintenance  Environmental Sustainability  Delhi           New Delhi           0   0.03  Directly by company\n",
            " 5  6.   To Provide And Promote Quality Education For Underprivileged Students, Provided Salaries For 14 Vidy  Education                     Pan India       Nec/ Not Mentioned  0   1.13  Directly by company\n",
            " 6  7.   To Provide Aid And Relief During The Second Wave Of Covid-19, Provided Oxygen Equipment Facilities,   Environmental Sustainability  Pan India       Nec/ Not Mentioned  0   4.03  Directly by company\n",
            " 7  8.   To Improve The Healthcare Facilities Available, Provided High Grade Ophthalmic Equipment To Pushpagi  Health Care                   Pan India       Nec/ Not Mentioned  0   0.57  Directly by company\n",
            " 8  9.   To Improve Farmers Welfare And Agricultural Landscape Of Rural Areas, Established Lift Irrigation Sc  Rural Development Projects    Pan India       Nec/ Not Mentioned  0   2.23  Directly by company\n",
            " 9  10.  To Make Safe Drinking Water Available In Rural Areas, Established Various Capacities Of Ro Water Pla  Safe Drinking Water           Pan India       Nec/ Not Mentioned  0   0.8   Directly by company\n",
            "10  11.  To Promote Rural Sportspersons, Provided Financial Support To Rural Athletes For Training And Partic  Training To Promote Sports    Pan India       Nec/ Not Mentioned  0   0.27  Directly by company\n",
            "11  12.  To Provide Aid And Relief During The Second Wave Of Covid-19, Provided Oxygen Equipment Facilities,   Environmental Sustainability  Tamil Nadu      Chennai             0   2     Directly by company\n",
            "12  13.  To Promote Indian Art And Culture Provided Financial Support For Conducting Programs To Promote Art,  Art And Culture               Telangana       Hyderabad           0   0.09  Directly by company\n",
            "13  14.  Construction Of Additional Classrooms, Toilets And Other Infrastructure In Government Zph & Primary   Education                     Telangana       Hyderabad           0   0.24  Directly by company\n",
            "14  15.  Construction Of Government Girls Junior College With 17 Classrooms And Other Infrastructure At Sanga  Education                     Telangana       Hyderabad           0   0.99  Directly by company\n",
            "15  16.  Construction Of Government Primary School With 8 Classrooms (G+1 Floor) And Other Infrastructure At   Education                     Telangana       Hyderabad           0   0.55  Directly by company\n",
            "16  17.  Construction Of Vedapatasala With 30 Classrooms To Promote Vedic Schooling And Gurukula Education Sy  Education                     Telangana       Hyderabad           0   1.5   Other implementing agencies\n",
            "17  18.  Education/Health/Women Empowerment Project With Rotary Foundation And District Collector, Towards Pr  Education                     Telangana       Hyderabad           0   0     Other implementing agencies\n",
            "18  19.  To Provide And Promote Quality Education For Underprivileged Students, Provided Salaries For 14 Vidy  Education                     Telangana       Hyderabad           0   0.04  Other implementing agencies\n",
            "19  20.  To Provide And Promote Quality Education For Underprivileged Students, Provided Salaries For 14 Vidy  Education                     Telangana       Hyderabad           0   0.05  Other implementing agencies\n",
            "20  21.  To Provide And Promote Quality Education For Underprivileged Students, Provided Salaries For 14 Vidy  Education                     Telangana       Hyderabad           0   0.07  Other implementing agencies\n",
            "21  22.  Developing Social Forestry In 4 Acres Of Government Land Under The Palle Prakruthi Vanam Scheme Of T  Environmental Sustainability  Telangana       Hyderabad           0   0.23  Directly by company\n",
            "22  23.  To Improve And Protect The Environment And Promote Animal Welfare, Planted And Supported Maintenance  Environmental Sustainability  Telangana       Hyderabad           0   0.24  Directly by company\n",
            "23  24.  To Improve And Protect The Environment And Promote Animal Welfare, Planted And Supported Maintenance  Environmental Sustainability  Telangana       Hyderabad           0   0.1   Other implementing agencies\n",
            "24  25.  To Improve And Protect The Environment And Promote Animal Welfare, Planted And Supported Maintenance  Environmental Sustainability  Telangana       Hyderabad           0   0.33  Other implementing agencies\n",
            "25  26.  To Improve And Protect The Environment And Promote Animal Welfare, Planted And Supported Maintenance  Environmental Sustainability  Telangana       Hyderabad           0   0.07  Other implementing agencies\n",
            "26  27.  To Improve And Protect The Environment And Promote Animal Welfare, Planted And Supported Maintenance  Environmental Sustainability  Telangana       Hyderabad           0   0.08  Other implementing agencies\n",
            "27  28.  To Support ?Bharosa Society For Protection Of Women And Children?, An Initiative Of Government Of Te  Gender Equality               Telangana       Hyderabad           0   0     Directly by company\n",
            "28  29.  An Interest Of ? 17,03,235 Has Been Allocated For Construction Of New Oncology Block Building At Mnj  Health Care                   Telangana       Hyderabad           0   0.17  Directly by company\n",
            "29  30.  Second Phase Of Construction Of New Oncology Block At Mnj Institute Of Oncology And Regional Cancer   Health Care                   Telangana       Hyderabad           0   4.51  Directly by company\n",
            "30  31.  To Improve The Healthcare Facilities Available, Provided High Grade Ophthalmic Equipment To Pushpagi  Health Care                   Telangana       Hyderabad           0   0.12  Other implementing agencies\n",
            "31  32.  To Improve The Healthcare Facilities Available, Provided High Grade Ophthalmic Equipment To Pushpagi  Health Care                   Telangana       Hyderabad           0   0.01  Other implementing agencies\n",
            "32  33.  To Improve The Healthcare Facilities Available, Provided High Grade Ophthalmic Equipment To Pushpagi  Health Care                   Telangana       Hyderabad           0   0.04  Other implementing agencies\n",
            "33  34.  To Improve Farmers Welfare And Agricultural Landscape Of Rural Areas, Established Lift Irrigation Sc  Rural Development Projects    Telangana       Hyderabad           0   1.5   Other implementing agencies\n",
            "34  35.  To Improve Farmers Welfare And Agricultural Landscape Of Rural Areas, Established Lift Irrigation Sc  Rural Development Projects    Telangana       Hyderabad           0   0.2   Other implementing agencies\n",
            "35  36.  To Improve Farmers Welfare And Agricultural Landscape Of Rural Areas, Established Lift Irrigation Sc  Rural Development Projects    Telangana       Hyderabad           0   0.05  Other implementing agencies\n",
            "36       Grand Total (INR Cr.)                                                                                                                                                   0  26.96\n",
            "--  ---  ----------------------------------------------------------------------------------------------------  ----------------------------  --------------  ------------------  -  -----  ---------------------------\n"
          ]
        }
      ]
    },
    {
      "cell_type": "code",
      "source": [
        "from requests_html import AsyncHTMLSession\n",
        "import nest_asyncio\n",
        "import asyncio\n",
        "import pandas as pd\n",
        "\n",
        "\n",
        "async def fetch_data(url):\n",
        "    session = AsyncHTMLSession()\n",
        "    response = await session.get(url)\n",
        "    await response.html.arender(timeout=20, sleep=5)\n",
        "    csr_details_table_body = response.html.find('#csrDetailsTableBody')\n",
        "    await session.close()\n",
        "    return csr_details_table_body\n",
        "\n",
        "\n",
        "async def main():\n",
        "    url = \"https://www.mca.gov.in/content/csr/global/master/home/home/csr-expenditure--geographical-distribution/state/district/company.html?=Aurobindo%20Pharma%20Ltd=L24239TG1986PLC015190=FY%202021-22\"\n",
        "\n",
        "    # Fetch the data asynchronously\n",
        "    csr_details_table_body = await fetch_data(url)\n",
        "\n",
        "    if csr_details_table_body:\n",
        "        table_data = []\n",
        "\n",
        "        # Iterate through table rows and filter for \"Safe Drinking Water\" in the 4th column\n",
        "        for row in csr_details_table_body[0].find('tr'):\n",
        "            cells = row.find('td')\n",
        "            if cells and len(cells) >= 4 and cells[2].text.strip() == \"Safe Drinking Water\":\n",
        "                row_data = []\n",
        "                for cell in cells:\n",
        "                    row_data.append(cell.text.strip())\n",
        "                table_data.append(row_data)\n",
        "\n",
        "        if table_data:\n",
        "            # Convert table_data into a pandas DataFrame and sort by the 4th column (index 3)\n",
        "            df = pd.DataFrame(table_data)\n",
        "            sorted_df = df.sort_values(by=[2], ascending=True)  # Sort by 3rd column (index 2)\n",
        "\n",
        "            # Save the sorted DataFrame to a CSV file (with index=False to exclude row numbers)\n",
        "            sorted_df.to_csv(\"filtered_data.csv\", index=False)\n",
        "\n",
        "            print(\"Data saved to filtered_data.csv\")\n",
        "        else:\n",
        "            print(\"No rows found containing 'Safe Drinking Water' in the 4th column.\")\n",
        "    else:\n",
        "        print(\"Element not found.\")\n",
        "\n",
        "\n",
        "# Allow nested asyncio event loops (needed for Jupyter and some interactive shells)\n",
        "nest_asyncio.apply()\n",
        "\n",
        "# Run the asynchronous main function\n",
        "if __name__ == \"__main__\":\n",
        "    asyncio.run(main())\n"
      ],
      "metadata": {
        "colab": {
          "base_uri": "https://localhost:8080/"
        },
        "id": "SD8zFMSVTl0v",
        "outputId": "b1527dd5-c900-479a-d023-91a0f6498ba8"
      },
      "execution_count": 16,
      "outputs": [
        {
          "output_type": "stream",
          "name": "stdout",
          "text": [
            "Data saved to filtered_data.csv\n"
          ]
        }
      ]
    }
  ]
}